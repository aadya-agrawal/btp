{
 "cells": [
  {
   "cell_type": "code",
   "execution_count": 1,
   "id": "9fbdf74f",
   "metadata": {},
   "outputs": [],
   "source": [
    "# import numpy as np\n",
    "import urllib.request as urllib2\n",
    "import pandas as pd\n",
    "from bs4 import BeautifulSoup"
   ]
  },
  {
   "cell_type": "code",
   "execution_count": 4,
   "id": "927e22bd",
   "metadata": {},
   "outputs": [],
   "source": [
    "with open('2018-03-21/2018-03-21-PSL-Innings2.html') as fp:\n",
    "    innings_soup = BeautifulSoup(fp, \"html.parser\")\n",
    "\n",
    "ball_df = pd.DataFrame(columns=['ball', 'score', 'commentary'])\n",
    "\n",
    "ball_numbers = list()\n",
    "ball_score = list()\n",
    "ball_desc = list()\n",
    "\n",
    "# get data from div classes for ball numbers\n",
    "for div in innings_soup.findAll('div', {'class': 'time-stamp'}):\n",
    "    # ball_data[div.find('div').attrs['class'][0]] = div.text.strip()\n",
    "    ball_numbers.append(div.text)\n",
    "\n",
    "for div in innings_soup.findAll('div', {'class': 'over-circle'}):\n",
    "    ball_score.append(div.text)\n",
    "\n",
    "for div in innings_soup.findAll('div', {'class': 'description'}):\n",
    "    ball_desc.append(div.text)\n",
    "\n",
    "ball_df.ball = ball_numbers\n",
    "ball_df.score = ball_score\n",
    "ball_df.commentary = ball_desc\n",
    "\n",
    "ball_df.to_csv(\"2018-03-21-innings2.csv\", sep=',', index=False)\n",
    "ball_df.to_json(\"2018-03-21-innings2.json\", orient='records')\n"
   ]
  },
  {
   "cell_type": "code",
   "execution_count": null,
   "metadata": {},
   "outputs": [],
   "source": []
  }
 ],
 "metadata": {
  "kernelspec": {
   "display_name": "Python 3",
   "language": "python",
   "name": "python3"
  },
  "language_info": {
   "codemirror_mode": {
    "name": "ipython",
    "version": 3
   },
   "file_extension": ".py",
   "mimetype": "text/x-python",
   "name": "python",
   "nbconvert_exporter": "python",
   "pygments_lexer": "ipython3",
   "version": "3.9.2"
  }
 },
 "nbformat": 4,
 "nbformat_minor": 5
}
