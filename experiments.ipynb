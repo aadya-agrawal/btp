{
 "cells": [
  {
   "cell_type": "code",
   "execution_count": 145,
   "metadata": {},
   "outputs": [],
   "source": [
    "## Fixed issue: we should consider only first innings\n",
    "## Pending issue: \n",
    "#  -what is the best way to fix division by 0 problems\n",
    "#  -tau has too many zeros!!\n"
   ]
  },
  {
   "cell_type": "markdown",
   "metadata": {},
   "source": [
    "### prep"
   ]
  },
  {
   "cell_type": "code",
   "execution_count": 2,
   "metadata": {},
   "outputs": [
    {
     "name": "stderr",
     "output_type": "stream",
     "text": [
      "/var/folders/lz/7tzrmr9x1xs5pplr6wnzp5jr0000gn/T/ipykernel_21694/2079015914.py:2: DeprecationWarning: \n",
      "Pyarrow will become a required dependency of pandas in the next major release of pandas (pandas 3.0),\n",
      "(to allow more performant data types, such as the Arrow string type, and better interoperability with other libraries)\n",
      "but was not found to be installed on your system.\n",
      "If this would cause problems for you,\n",
      "please provide us feedback at https://github.com/pandas-dev/pandas/issues/54466\n",
      "        \n",
      "  import pandas as pd\n"
     ]
    }
   ],
   "source": [
    "import pickle\n",
    "import pandas as pd\n",
    "import numpy as np\n",
    "from scipy.stats import dirichlet, multinomial"
   ]
  },
  {
   "cell_type": "code",
   "execution_count": 3,
   "metadata": {},
   "outputs": [
    {
     "data": {
      "text/html": [
       "<div>\n",
       "<style scoped>\n",
       "    .dataframe tbody tr th:only-of-type {\n",
       "        vertical-align: middle;\n",
       "    }\n",
       "\n",
       "    .dataframe tbody tr th {\n",
       "        vertical-align: top;\n",
       "    }\n",
       "\n",
       "    .dataframe thead th {\n",
       "        text-align: right;\n",
       "    }\n",
       "</style>\n",
       "<table border=\"1\" class=\"dataframe\">\n",
       "  <thead>\n",
       "    <tr style=\"text-align: right;\">\n",
       "      <th></th>\n",
       "      <th>bowler</th>\n",
       "      <th>batsman</th>\n",
       "      <th>wicket</th>\n",
       "      <th>over</th>\n",
       "      <th>outcome</th>\n",
       "    </tr>\n",
       "  </thead>\n",
       "  <tbody>\n",
       "    <tr>\n",
       "      <th>0</th>\n",
       "      <td>Mortaza_Bangladesh</td>\n",
       "      <td>Warner_Australia</td>\n",
       "      <td>0</td>\n",
       "      <td>1</td>\n",
       "      <td>0</td>\n",
       "    </tr>\n",
       "    <tr>\n",
       "      <th>1</th>\n",
       "      <td>Mortaza_Bangladesh</td>\n",
       "      <td>Warner_Australia</td>\n",
       "      <td>0</td>\n",
       "      <td>1</td>\n",
       "      <td>0</td>\n",
       "    </tr>\n",
       "    <tr>\n",
       "      <th>2</th>\n",
       "      <td>Mortaza_Bangladesh</td>\n",
       "      <td>Warner_Australia</td>\n",
       "      <td>0</td>\n",
       "      <td>1</td>\n",
       "      <td>1</td>\n",
       "    </tr>\n",
       "    <tr>\n",
       "      <th>3</th>\n",
       "      <td>Mortaza_Bangladesh</td>\n",
       "      <td>Watson_Australia</td>\n",
       "      <td>0</td>\n",
       "      <td>1</td>\n",
       "      <td>0</td>\n",
       "    </tr>\n",
       "    <tr>\n",
       "      <th>4</th>\n",
       "      <td>Mortaza_Bangladesh</td>\n",
       "      <td>Watson_Australia</td>\n",
       "      <td>0</td>\n",
       "      <td>1</td>\n",
       "      <td>1</td>\n",
       "    </tr>\n",
       "    <tr>\n",
       "      <th>5</th>\n",
       "      <td>Mortaza_Bangladesh</td>\n",
       "      <td>Warner_Australia</td>\n",
       "      <td>0</td>\n",
       "      <td>1</td>\n",
       "      <td>0</td>\n",
       "    </tr>\n",
       "    <tr>\n",
       "      <th>6</th>\n",
       "      <td>Shafiul_Bangladesh</td>\n",
       "      <td>Watson_Australia</td>\n",
       "      <td>0</td>\n",
       "      <td>2</td>\n",
       "      <td>0</td>\n",
       "    </tr>\n",
       "    <tr>\n",
       "      <th>7</th>\n",
       "      <td>Shafiul_Bangladesh</td>\n",
       "      <td>Watson_Australia</td>\n",
       "      <td>0</td>\n",
       "      <td>2</td>\n",
       "      <td>1</td>\n",
       "    </tr>\n",
       "    <tr>\n",
       "      <th>8</th>\n",
       "      <td>Shafiul_Bangladesh</td>\n",
       "      <td>Watson_Australia</td>\n",
       "      <td>0</td>\n",
       "      <td>2</td>\n",
       "      <td>0</td>\n",
       "    </tr>\n",
       "    <tr>\n",
       "      <th>9</th>\n",
       "      <td>Shafiul_Bangladesh</td>\n",
       "      <td>Watson_Australia</td>\n",
       "      <td>0</td>\n",
       "      <td>2</td>\n",
       "      <td>2</td>\n",
       "    </tr>\n",
       "  </tbody>\n",
       "</table>\n",
       "</div>"
      ],
      "text/plain": [
       "               bowler           batsman  wicket  over  outcome\n",
       "0  Mortaza_Bangladesh  Warner_Australia       0     1        0\n",
       "1  Mortaza_Bangladesh  Warner_Australia       0     1        0\n",
       "2  Mortaza_Bangladesh  Warner_Australia       0     1        1\n",
       "3  Mortaza_Bangladesh  Watson_Australia       0     1        0\n",
       "4  Mortaza_Bangladesh  Watson_Australia       0     1        1\n",
       "5  Mortaza_Bangladesh  Warner_Australia       0     1        0\n",
       "6  Shafiul_Bangladesh  Watson_Australia       0     2        0\n",
       "7  Shafiul_Bangladesh  Watson_Australia       0     2        1\n",
       "8  Shafiul_Bangladesh  Watson_Australia       0     2        0\n",
       "9  Shafiul_Bangladesh  Watson_Australia       0     2        2"
      ]
     },
     "execution_count": 3,
     "metadata": {},
     "output_type": "execute_result"
    }
   ],
   "source": [
    "with open('df1.pkl', 'rb') as f:\n",
    "    data = pickle.load(f)\n",
    "df = pd.DataFrame(data)\n",
    "df.head(10)"
   ]
  },
  {
   "cell_type": "code",
   "execution_count": 4,
   "metadata": {},
   "outputs": [],
   "source": [
    "X = np.load(\"X_mat.npy\")"
   ]
  },
  {
   "cell_type": "code",
   "execution_count": 63,
   "metadata": {},
   "outputs": [],
   "source": [
    "n_mat = X.sum(axis=-1, keepdims=True)\n",
    "n_mat[n_mat == 0]=1"
   ]
  },
  {
   "cell_type": "code",
   "execution_count": 64,
   "metadata": {},
   "outputs": [
    {
     "data": {
      "text/plain": [
       "(374, 20, 10, 1)"
      ]
     },
     "execution_count": 64,
     "metadata": {},
     "output_type": "execute_result"
    }
   ],
   "source": [
    "n_mat.shape"
   ]
  },
  {
   "cell_type": "code",
   "execution_count": 65,
   "metadata": {},
   "outputs": [
    {
     "data": {
      "text/plain": [
       "1.0"
      ]
     },
     "execution_count": 65,
     "metadata": {},
     "output_type": "execute_result"
    }
   ],
   "source": [
    "# emp_prob = X / (n_mat+1.e-15)\n",
    "emp_prob = X / (n_mat)\n",
    "\n",
    "# emp_prob.shape\n",
    "np.max(emp_prob)"
   ]
  },
  {
   "cell_type": "code",
   "execution_count": null,
   "metadata": {},
   "outputs": [],
   "source": [
    "emp_prob1  = "
   ]
  },
  {
   "cell_type": "code",
   "execution_count": 69,
   "metadata": {},
   "outputs": [
    {
     "name": "stdout",
     "output_type": "stream",
     "text": [
      "582857\n"
     ]
    }
   ],
   "source": [
    "print(emp_prob[emp_prob==0].size)"
   ]
  },
  {
   "cell_type": "code",
   "execution_count": 67,
   "metadata": {},
   "outputs": [
    {
     "data": {
      "text/plain": [
       "(374, 20, 10, 8)"
      ]
     },
     "execution_count": 67,
     "metadata": {},
     "output_type": "execute_result"
    }
   ],
   "source": [
    "## Delta theorem multipliers\n",
    "inv_prob = np.array([(1-p)/(p+1.e-15) for p in emp_prob])\n",
    "inv_prob = inv_prob/(n_mat+1.e-15)\n",
    "inv_prob.shape"
   ]
  },
  {
   "cell_type": "code",
   "execution_count": 68,
   "metadata": {},
   "outputs": [
    {
     "data": {
      "text/plain": [
       "1560"
      ]
     },
     "execution_count": 68,
     "metadata": {},
     "output_type": "execute_result"
    }
   ],
   "source": [
    "inv_prob[inv_prob==0].size"
   ]
  },
  {
   "cell_type": "markdown",
   "metadata": {},
   "source": [
    "### alpha matrix"
   ]
  },
  {
   "cell_type": "code",
   "execution_count": 84,
   "metadata": {},
   "outputs": [
    {
     "name": "stdout",
     "output_type": "stream",
     "text": [
      "568480\n",
      "0\n",
      "553353\n"
     ]
    }
   ],
   "source": [
    "alpha=[]\n",
    "v_inv=[]\n",
    "for i in range(emp_prob.shape[0]):\n",
    "    alpha_i=[]\n",
    "    v_inv_i=[]\n",
    "    for o in range(19):\n",
    "        val = emp_prob[i,o+1]/(emp_prob[i,o]+1.e-15)\n",
    "        # print(val.shape)\n",
    "        alpha_i.append(val)\n",
    "        v_i = np.square(val)*(inv_prob[i,o+1]+inv_prob[i,o]) \n",
    "        v_inv_i.append([1/(np.sqrt(x)+1.e-15) for x in v_i])\n",
    "        vtemp= np.array(v_inv_i)\n",
    "        atemp= np.array(alpha_i)\n",
    "        # print(atemp.size)\n",
    "        # print((vtemp[vtemp!=0].size))\n",
    "        # print(len(alpha_i[alpha_i==0]))\n",
    "        # if(vtemp[vtemp==0].size!=atemp[atemp==0].size):\n",
    "            # print(len(v_inv_i[v_inv_i==0]))\n",
    "            # print(len(alpha_i[alpha_i==0]))\n",
    "            # print(vtemp.size)\n",
    "        # v_i_root = np.sqrt(v_i)\n",
    "        # print(v_i_root.shape)\n",
    "        # v_inv_i.append(v_i_root)\n",
    "    alpha.append(alpha_i)\n",
    "    v_inv.append(v_inv_i)\n",
    "    \n",
    "alpha = np.array(alpha)\n",
    "v_inv = np.array(v_inv)\n",
    "print(alpha.size)\n",
    "print(v_inv[v_inv==0].size)\n",
    "\n",
    "v_inv[alpha==0]=0\n",
    "\n",
    "print(v_inv[v_inv==0].size)"
   ]
  },
  {
   "cell_type": "code",
   "execution_count": 86,
   "metadata": {},
   "outputs": [],
   "source": [
    "den = np.sum(v_inv, axis=0)\n",
    "den[den==0]=1\n",
    "num = np.sum(v_inv*alpha, axis=0)\n",
    "o_trans = num/den"
   ]
  },
  {
   "cell_type": "code",
   "execution_count": null,
   "metadata": {},
   "outputs": [],
   "source": []
  },
  {
   "cell_type": "code",
   "execution_count": 109,
   "metadata": {},
   "outputs": [
    {
     "data": {
      "text/plain": [
       "999999999999999.9"
      ]
     },
     "execution_count": 109,
     "metadata": {},
     "output_type": "execute_result"
    }
   ],
   "source": [
    "np.max(alpha)"
   ]
  },
  {
   "cell_type": "markdown",
   "metadata": {},
   "source": [
    "### beta matrix"
   ]
  },
  {
   "cell_type": "code",
   "execution_count": 90,
   "metadata": {},
   "outputs": [
    {
     "name": "stdout",
     "output_type": "stream",
     "text": [
      "0\n",
      "525058\n",
      "525058\n"
     ]
    },
    {
     "data": {
      "text/plain": [
       "(374, 20, 9, 8)"
      ]
     },
     "execution_count": 90,
     "metadata": {},
     "output_type": "execute_result"
    }
   ],
   "source": [
    "beta=[]\n",
    "w_inv=[]\n",
    "for i in range(emp_prob.shape[0]):\n",
    "    beta_o=[]\n",
    "    y_inv_o=[]\n",
    "    for o in range(20):\n",
    "        beta_i=[]\n",
    "        v_inv_i=[]\n",
    "        for w in range(9):\n",
    "            val = emp_prob[i,o,w+1]/(emp_prob[i,o,w]+1.e-15)\n",
    "            beta_i.append(val)\n",
    "            v_i = np.square(val)*(inv_prob[i,o,w+1]+inv_prob[i,o,w]) \n",
    "            v_inv_i.append([1/(np.sqrt(x)+1.e-15) for x in v_i])\n",
    "            # print(val.shape)\n",
    "        beta_o.append(beta_i)\n",
    "        y_inv_o.append(v_inv_i)\n",
    "    beta.append(beta_o)\n",
    "    w_inv.append(y_inv_o)\n",
    "    \n",
    "beta = np.array(beta)\n",
    "w_inv = np.array(w_inv)\n",
    "print(w_inv[w_inv==0].size)\n",
    "print(beta[beta==0].size)\n",
    "w_inv[beta==0]=0\n",
    "\n",
    "print(w_inv[w_inv==0].size)\n",
    "w_inv.shape "
   ]
  },
  {
   "cell_type": "code",
   "execution_count": 106,
   "metadata": {},
   "outputs": [
    {
     "data": {
      "text/plain": [
       "999999999999999.9"
      ]
     },
     "execution_count": 106,
     "metadata": {},
     "output_type": "execute_result"
    }
   ],
   "source": [
    "o_trans.max()"
   ]
  },
  {
   "cell_type": "code",
   "execution_count": 91,
   "metadata": {},
   "outputs": [
    {
     "data": {
      "text/plain": [
       "(20, 9, 8)"
      ]
     },
     "execution_count": 91,
     "metadata": {},
     "output_type": "execute_result"
    }
   ],
   "source": [
    "den1 = np.sum(w_inv, axis=0)\n",
    "den1[den1==0]=1\n",
    "w_trans = np.sum(w_inv*beta, axis=0)/den1\n",
    "w_trans.shape"
   ]
  },
  {
   "cell_type": "code",
   "execution_count": 92,
   "metadata": {},
   "outputs": [
    {
     "data": {
      "text/plain": [
       "0.0"
      ]
     },
     "execution_count": 92,
     "metadata": {},
     "output_type": "execute_result"
    }
   ],
   "source": [
    "np.min(w_trans)"
   ]
  },
  {
   "cell_type": "markdown",
   "metadata": {},
   "source": [
    "### tau calc"
   ]
  },
  {
   "cell_type": "code",
   "execution_count": 100,
   "metadata": {},
   "outputs": [
    {
     "name": "stdout",
     "output_type": "stream",
     "text": [
      "1289\n",
      "here\n",
      "here\n"
     ]
    }
   ],
   "source": [
    "multiplier_mat = np.ones((2,20,10,8))\n",
    "for o in range(1,20):\n",
    "    multiplier_mat[0,o] = multiplier_mat[0,o-1]*o_trans[o-1]\n",
    "for w in range(1,10):\n",
    "    multiplier_mat[1,:,w] = multiplier_mat[1,:,w-1]*w_trans[:,w-1]\n",
    "\n",
    "tau_mat = multiplier_mat[0]*multiplier_mat[1]\n",
    "print(tau_mat[tau_mat<=1e-10].size)\n",
    "for j in range(8):\n",
    "    if tau_mat[6,0,j]!=0:\n",
    "        # tau_mat[:,:,j][tau_mat[:,:,j]<(1.e-10)]=0\n",
    "        tau_mat[:,:,j] = tau_mat[:,:,j]/(tau_mat[6,0,j]) # tau_mat[6,0,:]=1\n",
    "    else:\n",
    "        print(\"here\")\n",
    "        # print(tau_mat[:,:,j])\n",
    "        tau_mat[:,:,j][tau_mat[:,:,j]<(1.e-10)]=0\n",
    "\n",
    "        # print(tau_mat[:,:,j])\n",
    "        tau_mat[:,:,j] = (tau_mat[:,:,j])/(tau_mat[6,0,j]+1.e-15) \n",
    "        "
   ]
  },
  {
   "cell_type": "code",
   "execution_count": 114,
   "metadata": {},
   "outputs": [],
   "source": [
    "tau_mat[tau_mat>2]=2"
   ]
  },
  {
   "cell_type": "code",
   "execution_count": 94,
   "metadata": {},
   "outputs": [],
   "source": [
    "# tau_mat[18]"
   ]
  },
  {
   "cell_type": "markdown",
   "metadata": {},
   "source": [
    "### parameter estimation"
   ]
  },
  {
   "cell_type": "code",
   "execution_count": 17,
   "metadata": {},
   "outputs": [],
   "source": [
    "# Function to calculate the log posterior\n",
    "def log_posterior(p, X, a, tau, m):\n",
    "    log_p = np.sum([(np.sum(X[:, :, j]) + a[j] - 1) * np.log(p[j]) for j in range(len(p))])\n",
    "    log_p -= np.sum([m[o, w] * np.log(np.sum([tau[o, w, j] * p[j] for j in range(len(p))])+1.e-15) for o in range(X.shape[0]) for w in range(X.shape[1])])\n",
    "    return log_p\n",
    "\n",
    "# Metropolis within Gibbs sampler\n",
    "def metropolis_within_gibbs(X, a, tau, m, num_samples, burn_in):\n",
    "    num_params = len(a)\n",
    "    samples = np.zeros((num_samples, num_params))\n",
    "    current_sample = np.ones(num_params) / num_params  # Initial sample\n",
    "    for i in range(num_samples + burn_in):\n",
    "        for j in range(num_params):\n",
    "            proposal = np.random.dirichlet([np.sum(X[:, :, j]) + a[j] for _ in range(num_params)])\n",
    "            acceptance_ratio = np.exp(log_posterior(proposal, X, a, tau, m) - log_posterior(current_sample, X, a, tau, m))\n",
    "            if np.random.rand() < acceptance_ratio:\n",
    "                current_sample = proposal\n",
    "        if i >= burn_in:\n",
    "            samples[i - burn_in] = current_sample\n",
    "    return samples"
   ]
  },
  {
   "cell_type": "code",
   "execution_count": 18,
   "metadata": {},
   "outputs": [],
   "source": [
    "def met_sampling(i):\n",
    "    c = 60\n",
    "    a = c * np.sum(X/(tau_mat+1.e-15), axis=tuple([0,1,2])) \n",
    "    a /= np.sum(X/(tau_mat+1.e-15))\n",
    "    # tau = np.random.rand(3, 4, 8) \n",
    "    m = np.sum(X[i], axis=-1)\n",
    "    num_samples = 1000\n",
    "    burn_in = 100\n",
    "    samples = metropolis_within_gibbs(X[i], a, tau_mat, m, num_samples,burn_in)\n",
    "    return np.mean(samples, axis=0)"
   ]
  },
  {
   "cell_type": "code",
   "execution_count": null,
   "metadata": {},
   "outputs": [],
   "source": [
    "## Probability matrix calc\n",
    "prob = []\n",
    "for i in [1,89]: # range(X.shape[0])\n",
    "    param_est = met_sampling(i)\n",
    "    print(param_est)\n",
    "    vals = tau_mat*param_est\n",
    "    prob.append(vals/(vals.sum(axis=-1, keepdims=True)+1.e-15))"
   ]
  },
  {
   "cell_type": "code",
   "execution_count": 101,
   "metadata": {},
   "outputs": [
    {
     "name": "stdout",
     "output_type": "stream",
     "text": [
      "[[[2.16790608e+000 1.00000000e+000 1.17519932e+000 ... 1.00000000e+015\n",
      "   1.25292762e-001 4.71570971e-001]\n",
      "  [3.37728557e+000 9.34066022e-001 1.10788333e+001 ... 0.00000000e+000\n",
      "   0.00000000e+000 2.18101582e+000]\n",
      "  [1.35091423e+001 0.00000000e+000 0.00000000e+000 ... 0.00000000e+000\n",
      "   0.00000000e+000 0.00000000e+000]\n",
      "  ...\n",
      "  [0.00000000e+000 0.00000000e+000 0.00000000e+000 ... 0.00000000e+000\n",
      "   0.00000000e+000 0.00000000e+000]\n",
      "  [0.00000000e+000 0.00000000e+000 0.00000000e+000 ... 0.00000000e+000\n",
      "   0.00000000e+000 0.00000000e+000]\n",
      "  [0.00000000e+000 0.00000000e+000 0.00000000e+000 ... 0.00000000e+000\n",
      "   0.00000000e+000 0.00000000e+000]]\n",
      "\n",
      " [[1.95901368e+000 1.00000000e+000 1.18358521e+000 ... 3.33486014e+028\n",
      "   2.44191370e-001 4.69801905e-001]\n",
      "  [2.03706895e+000 6.03047460e-001 1.04632871e+000 ... 0.00000000e+000\n",
      "   2.46345613e+013 5.49780806e+013]\n",
      "  [1.68539180e+015 5.73540336e+014 9.30069605e+014 ... 0.00000000e+000\n",
      "   0.00000000e+000 1.49503735e+029]\n",
      "  ...\n",
      "  [0.00000000e+000 0.00000000e+000 0.00000000e+000 ... 0.00000000e+000\n",
      "   0.00000000e+000 0.00000000e+000]\n",
      "  [0.00000000e+000 0.00000000e+000 0.00000000e+000 ... 0.00000000e+000\n",
      "   0.00000000e+000 0.00000000e+000]\n",
      "  [0.00000000e+000 0.00000000e+000 0.00000000e+000 ... 0.00000000e+000\n",
      "   0.00000000e+000 0.00000000e+000]]\n",
      "\n",
      " [[1.52370216e+000 1.00000000e+000 1.20141252e+000 ... 2.08428759e+042\n",
      "   4.54105116e-001 5.81262364e-001]\n",
      "  [1.58430821e+000 6.03047460e-001 7.08376135e-001 ... 0.00000000e+000\n",
      "   3.78285229e+013 9.93172238e+013]\n",
      "  [1.29173040e+015 3.26201885e+014 2.20058226e+029 ... 0.00000000e+000\n",
      "   0.00000000e+000 5.38868596e+029]\n",
      "  ...\n",
      "  [0.00000000e+000 0.00000000e+000 0.00000000e+000 ... 0.00000000e+000\n",
      "   0.00000000e+000 0.00000000e+000]\n",
      "  [0.00000000e+000 0.00000000e+000 0.00000000e+000 ... 0.00000000e+000\n",
      "   0.00000000e+000 0.00000000e+000]\n",
      "  [0.00000000e+000 0.00000000e+000 0.00000000e+000 ... 0.00000000e+000\n",
      "   0.00000000e+000 0.00000000e+000]]\n",
      "\n",
      " ...\n",
      "\n",
      " [[0.00000000e+000 0.00000000e+000 0.00000000e+000 ... 0.00000000e+000\n",
      "   0.00000000e+000 0.00000000e+000]\n",
      "  [1.78824271e+028 2.96836660e+013 6.50984035e+042 ... 0.00000000e+000\n",
      "   1.65068482e+086 2.42233906e+074]\n",
      "  [1.36889063e+028 2.17745240e+043 1.00104132e+072 ... 0.00000000e+000\n",
      "   0.00000000e+000 1.46263146e+088]\n",
      "  ...\n",
      "  [0.00000000e+000 0.00000000e+000 0.00000000e+000 ... 0.00000000e+000\n",
      "   0.00000000e+000 0.00000000e+000]\n",
      "  [0.00000000e+000 0.00000000e+000 0.00000000e+000 ... 0.00000000e+000\n",
      "   0.00000000e+000 0.00000000e+000]\n",
      "  [0.00000000e+000 0.00000000e+000 0.00000000e+000 ... 0.00000000e+000\n",
      "   0.00000000e+000 0.00000000e+000]]\n",
      "\n",
      " [[0.00000000e+000 0.00000000e+000 0.00000000e+000 ... 0.00000000e+000\n",
      "   0.00000000e+000 0.00000000e+000]\n",
      "  [0.00000000e+000 2.68539813e+013 2.09244868e+057 ... 0.00000000e+000\n",
      "   5.15839006e+100 8.07446353e+088]\n",
      "  [0.00000000e+000 1.90371621e+029 1.15288229e+072 ... 0.00000000e+000\n",
      "   0.00000000e+000 2.21469488e+102]\n",
      "  ...\n",
      "  [0.00000000e+000 0.00000000e+000 0.00000000e+000 ... 0.00000000e+000\n",
      "   0.00000000e+000 0.00000000e+000]\n",
      "  [0.00000000e+000 0.00000000e+000 0.00000000e+000 ... 0.00000000e+000\n",
      "   0.00000000e+000 0.00000000e+000]\n",
      "  [0.00000000e+000 0.00000000e+000 0.00000000e+000 ... 0.00000000e+000\n",
      "   0.00000000e+000 0.00000000e+000]]\n",
      "\n",
      " [[0.00000000e+000 0.00000000e+000 0.00000000e+000 ... 0.00000000e+000\n",
      "   0.00000000e+000 0.00000000e+000]\n",
      "  [0.00000000e+000 2.68539813e+013 4.68708505e+057 ... 0.00000000e+000\n",
      "   3.30136964e+100 0.00000000e+000]\n",
      "  [0.00000000e+000 2.58130919e+043 2.23919776e+086 ... 0.00000000e+000\n",
      "   0.00000000e+000 0.00000000e+000]\n",
      "  ...\n",
      "  [0.00000000e+000 0.00000000e+000 0.00000000e+000 ... 0.00000000e+000\n",
      "   0.00000000e+000 0.00000000e+000]\n",
      "  [0.00000000e+000 0.00000000e+000 0.00000000e+000 ... 0.00000000e+000\n",
      "   0.00000000e+000 0.00000000e+000]\n",
      "  [0.00000000e+000 0.00000000e+000 0.00000000e+000 ... 0.00000000e+000\n",
      "   0.00000000e+000 0.00000000e+000]]]\n"
     ]
    }
   ],
   "source": [
    "print(tau_mat)"
   ]
  },
  {
   "cell_type": "code",
   "execution_count": 115,
   "metadata": {},
   "outputs": [
    {
     "name": "stdout",
     "output_type": "stream",
     "text": [
      "[0.23388017 0.36965765 0.11272513 0.01192111 0.05408686 0.01867322\n",
      " 0.08492467 0.11413118]\n",
      "(20, 10, 8)\n"
     ]
    }
   ],
   "source": [
    "#watson is i=1\n",
    "param_est = met_sampling(1)\n",
    "print(param_est)\n",
    "vals = tau_mat*param_est\n",
    "print(vals.shape)\n",
    "watson = (vals/(vals.sum(axis=-1, keepdims=True)+1.e-15))\n"
   ]
  },
  {
   "cell_type": "code",
   "execution_count": 104,
   "metadata": {},
   "outputs": [
    {
     "data": {
      "text/plain": [
       "1.0000000000000016"
      ]
     },
     "execution_count": 104,
     "metadata": {},
     "output_type": "execute_result"
    }
   ],
   "source": [
    "param_est.sum()"
   ]
  },
  {
   "cell_type": "code",
   "execution_count": 20,
   "metadata": {},
   "outputs": [
    {
     "name": "stdout",
     "output_type": "stream",
     "text": [
      "[[[1.40165947e+97]\n",
      "  [5.35838863e+79]\n",
      "  [1.32344538e+54]\n",
      "  [1.00000000e-15]\n",
      "  [1.00000000e-15]\n",
      "  [1.00000000e-15]\n",
      "  [1.00000000e-15]\n",
      "  [1.00000000e-15]\n",
      "  [1.00000000e-15]\n",
      "  [1.00000000e-15]]\n",
      "\n",
      " [[5.93115003e+80]\n",
      "  [8.40762406e+62]\n",
      "  [7.68356743e+29]\n",
      "  [1.00000000e-15]\n",
      "  [1.00000000e-15]\n",
      "  [1.00000000e-15]\n",
      "  [1.00000000e-15]\n",
      "  [1.00000000e-15]\n",
      "  [1.00000000e-15]\n",
      "  [1.00000000e-15]]\n",
      "\n",
      " [[2.27246526e+64]\n",
      "  [4.42385011e+46]\n",
      "  [1.28540221e+07]\n",
      "  [1.00000000e-15]\n",
      "  [1.00000000e-15]\n",
      "  [1.00000000e-15]\n",
      "  [1.00000000e-15]\n",
      "  [1.00000000e-15]\n",
      "  [1.00000000e-15]\n",
      "  [1.00000000e-15]]\n",
      "\n",
      " [[1.08561446e+48]\n",
      "  [5.63384141e+30]\n",
      "  [1.41042538e-03]\n",
      "  [1.00000000e-15]\n",
      "  [1.00000000e-15]\n",
      "  [1.00000000e-15]\n",
      "  [1.00000000e-15]\n",
      "  [1.00000000e-15]\n",
      "  [1.00000000e-15]\n",
      "  [1.00000000e-15]]\n",
      "\n",
      " [[5.29725496e+31]\n",
      "  [1.22371303e+15]\n",
      "  [7.56312707e-14]\n",
      "  [1.00000000e-15]\n",
      "  [1.00000000e-15]\n",
      "  [1.00000000e-15]\n",
      "  [1.00000000e-15]\n",
      "  [1.00000000e-15]\n",
      "  [1.00000000e-15]\n",
      "  [1.00000000e-15]]\n",
      "\n",
      " [[3.22106727e+15]\n",
      "  [2.61618630e-01]\n",
      "  [1.00000000e-15]\n",
      "  [1.00000000e-15]\n",
      "  [1.00000000e-15]\n",
      "  [1.00000000e-15]\n",
      "  [1.00000000e-15]\n",
      "  [1.00000000e-15]\n",
      "  [1.00000000e-15]\n",
      "  [1.00000000e-15]]\n",
      "\n",
      " [[7.19121332e-01]\n",
      "  [1.05022737e-15]\n",
      "  [1.00000000e-15]\n",
      "  [1.00000000e-15]\n",
      "  [1.00000000e-15]\n",
      "  [1.00000000e-15]\n",
      "  [1.00000000e-15]\n",
      "  [1.00000000e-15]\n",
      "  [1.00000000e-15]\n",
      "  [1.00000000e-15]]\n",
      "\n",
      " [[1.08517778e-15]\n",
      "  [1.00000000e-15]\n",
      "  [1.00000000e-15]\n",
      "  [1.00000000e-15]\n",
      "  [1.00000000e-15]\n",
      "  [1.00000000e-15]\n",
      "  [1.00000000e-15]\n",
      "  [1.00000000e-15]\n",
      "  [1.00000000e-15]\n",
      "  [1.00000000e-15]]\n",
      "\n",
      " [[1.00000000e-15]\n",
      "  [1.00000000e-15]\n",
      "  [1.00000000e-15]\n",
      "  [1.00000000e-15]\n",
      "  [1.00000000e-15]\n",
      "  [1.00000000e-15]\n",
      "  [1.00000000e-15]\n",
      "  [1.00000000e-15]\n",
      "  [1.00000000e-15]\n",
      "  [1.00000000e-15]]\n",
      "\n",
      " [[1.00000000e-15]\n",
      "  [1.00000000e-15]\n",
      "  [1.00000000e-15]\n",
      "  [1.00000000e-15]\n",
      "  [1.00000000e-15]\n",
      "  [1.00000000e-15]\n",
      "  [1.00000000e-15]\n",
      "  [1.00000000e-15]\n",
      "  [1.00000000e-15]\n",
      "  [1.00000000e-15]]\n",
      "\n",
      " [[1.00000000e-15]\n",
      "  [1.00000000e-15]\n",
      "  [1.00000000e-15]\n",
      "  [1.00000000e-15]\n",
      "  [1.00000000e-15]\n",
      "  [1.00000000e-15]\n",
      "  [1.00000000e-15]\n",
      "  [1.00000000e-15]\n",
      "  [1.00000000e-15]\n",
      "  [1.00000000e-15]]\n",
      "\n",
      " [[1.00000000e-15]\n",
      "  [1.00000000e-15]\n",
      "  [1.00000000e-15]\n",
      "  [1.00000000e-15]\n",
      "  [1.00000000e-15]\n",
      "  [1.00000000e-15]\n",
      "  [1.00000000e-15]\n",
      "  [1.00000000e-15]\n",
      "  [1.00000000e-15]\n",
      "  [1.00000000e-15]]\n",
      "\n",
      " [[1.00000000e-15]\n",
      "  [1.00000000e-15]\n",
      "  [1.00000000e-15]\n",
      "  [1.00000000e-15]\n",
      "  [1.00000000e-15]\n",
      "  [1.00000000e-15]\n",
      "  [1.00000000e-15]\n",
      "  [1.00000000e-15]\n",
      "  [1.00000000e-15]\n",
      "  [1.00000000e-15]]\n",
      "\n",
      " [[1.00000000e-15]\n",
      "  [1.00000000e-15]\n",
      "  [1.00000000e-15]\n",
      "  [1.00000000e-15]\n",
      "  [1.00000000e-15]\n",
      "  [1.00000000e-15]\n",
      "  [1.00000000e-15]\n",
      "  [1.00000000e-15]\n",
      "  [1.00000000e-15]\n",
      "  [1.00000000e-15]]\n",
      "\n",
      " [[1.00000000e-15]\n",
      "  [1.00000000e-15]\n",
      "  [1.00000000e-15]\n",
      "  [1.00000000e-15]\n",
      "  [1.00000000e-15]\n",
      "  [1.00000000e-15]\n",
      "  [1.00000000e-15]\n",
      "  [1.00000000e-15]\n",
      "  [1.00000000e-15]\n",
      "  [1.00000000e-15]]\n",
      "\n",
      " [[1.00000000e-15]\n",
      "  [1.00000000e-15]\n",
      "  [1.00000000e-15]\n",
      "  [1.00000000e-15]\n",
      "  [1.00000000e-15]\n",
      "  [1.00000000e-15]\n",
      "  [1.00000000e-15]\n",
      "  [1.00000000e-15]\n",
      "  [1.00000000e-15]\n",
      "  [1.00000000e-15]]\n",
      "\n",
      " [[1.00000000e-15]\n",
      "  [1.00000000e-15]\n",
      "  [1.00000000e-15]\n",
      "  [1.00000000e-15]\n",
      "  [1.00000000e-15]\n",
      "  [1.00000000e-15]\n",
      "  [1.00000000e-15]\n",
      "  [1.00000000e-15]\n",
      "  [1.00000000e-15]\n",
      "  [1.00000000e-15]]\n",
      "\n",
      " [[1.00000000e-15]\n",
      "  [1.00000000e-15]\n",
      "  [1.00000000e-15]\n",
      "  [1.00000000e-15]\n",
      "  [1.00000000e-15]\n",
      "  [1.00000000e-15]\n",
      "  [1.00000000e-15]\n",
      "  [1.00000000e-15]\n",
      "  [1.00000000e-15]\n",
      "  [1.00000000e-15]]\n",
      "\n",
      " [[1.00000000e-15]\n",
      "  [1.00000000e-15]\n",
      "  [1.00000000e-15]\n",
      "  [1.00000000e-15]\n",
      "  [1.00000000e-15]\n",
      "  [1.00000000e-15]\n",
      "  [1.00000000e-15]\n",
      "  [1.00000000e-15]\n",
      "  [1.00000000e-15]\n",
      "  [1.00000000e-15]]\n",
      "\n",
      " [[1.00000000e-15]\n",
      "  [1.00000000e-15]\n",
      "  [1.00000000e-15]\n",
      "  [1.00000000e-15]\n",
      "  [1.00000000e-15]\n",
      "  [1.00000000e-15]\n",
      "  [1.00000000e-15]\n",
      "  [1.00000000e-15]\n",
      "  [1.00000000e-15]\n",
      "  [1.00000000e-15]]]\n"
     ]
    }
   ],
   "source": [
    "print(vals.sum(axis=-1, keepdims=True)+1.e-15)"
   ]
  },
  {
   "cell_type": "code",
   "execution_count": 21,
   "metadata": {},
   "outputs": [
    {
     "name": "stdout",
     "output_type": "stream",
     "text": [
      "[[[2.63732780e+087 3.60254825e+059 1.14562357e+097 ... 7.33107226e+013\n",
      "   1.28909602e+096 1.15198798e+096]\n",
      "  [4.27509219e+071 2.12925965e+043 4.97347028e+079 ... 0.00000000e+000\n",
      "   0.00000000e+000 2.80024853e+078]\n",
      "  [1.32344538e+054 0.00000000e+000 0.00000000e+000 ... 0.00000000e+000\n",
      "   0.00000000e+000 0.00000000e+000]\n",
      "  ...\n",
      "  [0.00000000e+000 0.00000000e+000 0.00000000e+000 ... 0.00000000e+000\n",
      "   0.00000000e+000 0.00000000e+000]\n",
      "  [0.00000000e+000 0.00000000e+000 0.00000000e+000 ... 0.00000000e+000\n",
      "   0.00000000e+000 0.00000000e+000]\n",
      "  [0.00000000e+000 0.00000000e+000 0.00000000e+000 ... 0.00000000e+000\n",
      "   0.00000000e+000 0.00000000e+000]]\n",
      "\n",
      " [[1.76662359e+072 6.03971998e+049 5.18538793e+080 ... 1.79037765e-010\n",
      "   8.59681764e+078 5.01838931e+079]\n",
      "  [5.78054475e+061 2.68385300e+033 6.17314974e+062 ... 0.00000000e+000\n",
      "   2.78956000e+054 1.27075997e+055]\n",
      "  [2.16245299e+023 3.04847346e+014 7.68356501e+029 ... 0.00000000e+000\n",
      "   0.00000000e+000 1.89814494e+022]\n",
      "  ...\n",
      "  [0.00000000e+000 0.00000000e+000 0.00000000e+000 ... 0.00000000e+000\n",
      "   0.00000000e+000 0.00000000e+000]\n",
      "  [0.00000000e+000 0.00000000e+000 0.00000000e+000 ... 0.00000000e+000\n",
      "   0.00000000e+000 0.00000000e+000]\n",
      "  [0.00000000e+000 0.00000000e+000 0.00000000e+000 ... 0.00000000e+000\n",
      "   0.00000000e+000 0.00000000e+000]]\n",
      "\n",
      " [[7.22024869e+056 5.57142617e+039 1.85270050e+064 ... 5.67936569e-035\n",
      "   1.93976509e+062 1.66889813e+063]\n",
      "  [1.43589825e+046 1.91669592e+023 1.36277320e+046 ... 0.00000000e+000\n",
      "   1.02270692e+037 4.02132773e+037]\n",
      "  [1.22150743e+007 1.31371956e-002 1.52480824e+005 ... 0.00000000e+000\n",
      "   0.00000000e+000 8.68902676e+004]\n",
      "  ...\n",
      "  [0.00000000e+000 0.00000000e+000 0.00000000e+000 ... 0.00000000e+000\n",
      "   0.00000000e+000 0.00000000e+000]\n",
      "  [0.00000000e+000 0.00000000e+000 0.00000000e+000 ... 0.00000000e+000\n",
      "   0.00000000e+000 0.00000000e+000]\n",
      "  [0.00000000e+000 0.00000000e+000 0.00000000e+000 ... 0.00000000e+000\n",
      "   0.00000000e+000 0.00000000e+000]]\n",
      "\n",
      " ...\n",
      "\n",
      " [[0.00000000e+000 0.00000000e+000 0.00000000e+000 ... 0.00000000e+000\n",
      "   0.00000000e+000 0.00000000e+000]\n",
      "  [1.29461089e-223 2.63600452e-200 0.00000000e+000 ... 0.00000000e+000\n",
      "   0.00000000e+000 0.00000000e+000]\n",
      "  [5.21205225e-236 2.01678606e-209 0.00000000e+000 ... 0.00000000e+000\n",
      "   0.00000000e+000 0.00000000e+000]\n",
      "  ...\n",
      "  [0.00000000e+000 0.00000000e+000 0.00000000e+000 ... 0.00000000e+000\n",
      "   0.00000000e+000 0.00000000e+000]\n",
      "  [0.00000000e+000 0.00000000e+000 0.00000000e+000 ... 0.00000000e+000\n",
      "   0.00000000e+000 0.00000000e+000]\n",
      "  [0.00000000e+000 0.00000000e+000 0.00000000e+000 ... 0.00000000e+000\n",
      "   0.00000000e+000 0.00000000e+000]]\n",
      "\n",
      " [[0.00000000e+000 0.00000000e+000 0.00000000e+000 ... 0.00000000e+000\n",
      "   0.00000000e+000 0.00000000e+000]\n",
      "  [0.00000000e+000 3.29748031e-217 0.00000000e+000 ... 0.00000000e+000\n",
      "   0.00000000e+000 0.00000000e+000]\n",
      "  [0.00000000e+000 5.03879066e-206 0.00000000e+000 ... 0.00000000e+000\n",
      "   0.00000000e+000 0.00000000e+000]\n",
      "  ...\n",
      "  [0.00000000e+000 0.00000000e+000 0.00000000e+000 ... 0.00000000e+000\n",
      "   0.00000000e+000 0.00000000e+000]\n",
      "  [0.00000000e+000 0.00000000e+000 0.00000000e+000 ... 0.00000000e+000\n",
      "   0.00000000e+000 0.00000000e+000]\n",
      "  [0.00000000e+000 0.00000000e+000 0.00000000e+000 ... 0.00000000e+000\n",
      "   0.00000000e+000 0.00000000e+000]]\n",
      "\n",
      " [[0.00000000e+000 0.00000000e+000 0.00000000e+000 ... 0.00000000e+000\n",
      "   0.00000000e+000 0.00000000e+000]\n",
      "  [0.00000000e+000 1.20773689e-227 0.00000000e+000 ... 0.00000000e+000\n",
      "   0.00000000e+000 0.00000000e+000]\n",
      "  [0.00000000e+000 2.85481523e-230 0.00000000e+000 ... 0.00000000e+000\n",
      "   0.00000000e+000 0.00000000e+000]\n",
      "  ...\n",
      "  [0.00000000e+000 0.00000000e+000 0.00000000e+000 ... 0.00000000e+000\n",
      "   0.00000000e+000 0.00000000e+000]\n",
      "  [0.00000000e+000 0.00000000e+000 0.00000000e+000 ... 0.00000000e+000\n",
      "   0.00000000e+000 0.00000000e+000]\n",
      "  [0.00000000e+000 0.00000000e+000 0.00000000e+000 ... 0.00000000e+000\n",
      "   0.00000000e+000 0.00000000e+000]]]\n"
     ]
    }
   ],
   "source": [
    "print(vals)"
   ]
  },
  {
   "cell_type": "code",
   "execution_count": 116,
   "metadata": {},
   "outputs": [
    {
     "data": {
      "text/plain": [
       "array([0.1022708 , 0.26930379, 0.19669999, 0.        , 0.11192563,\n",
       "       0.        , 0.08362038, 0.23617941])"
      ]
     },
     "execution_count": 116,
     "metadata": {},
     "output_type": "execute_result"
    }
   ],
   "source": [
    "watson[10,0,:]"
   ]
  },
  {
   "cell_type": "code",
   "execution_count": 21,
   "metadata": {},
   "outputs": [
    {
     "name": "stdout",
     "output_type": "stream",
     "text": [
      "[[2.03603208e-01 7.25401872e-01 1.38743765e-03 0.00000000e+00\n",
      "  6.90841618e-02 0.00000000e+00 4.52163629e-04 7.11566657e-05]\n",
      " [2.11299111e-01 4.17770958e-01 1.21587842e-01 0.00000000e+00\n",
      "  8.34149433e-02 0.00000000e+00 8.66121831e-02 7.93149615e-02]]\n"
     ]
    }
   ],
   "source": [
    "prob = np.array(prob)\n",
    "\n",
    "print(prob[:, 6, 0])"
   ]
  },
  {
   "cell_type": "code",
   "execution_count": null,
   "metadata": {},
   "outputs": [],
   "source": [
    "np.save(\"prob_mat.npy\", prob)"
   ]
  },
  {
   "cell_type": "code",
   "execution_count": null,
   "metadata": {},
   "outputs": [],
   "source": [
    "# Modifications: - weigh recent matches more (use decay ratio)"
   ]
  }
 ],
 "metadata": {
  "kernelspec": {
   "display_name": "Python 3",
   "language": "python",
   "name": "python3"
  },
  "language_info": {
   "codemirror_mode": {
    "name": "ipython",
    "version": 3
   },
   "file_extension": ".py",
   "mimetype": "text/x-python",
   "name": "python",
   "nbconvert_exporter": "python",
   "pygments_lexer": "ipython3",
   "version": "3.12.1"
  }
 },
 "nbformat": 4,
 "nbformat_minor": 2
}
