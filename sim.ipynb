{
 "cells": [
  {
   "cell_type": "markdown",
   "metadata": {},
   "source": [
    "### prep"
   ]
  },
  {
   "cell_type": "code",
   "execution_count": 100,
   "metadata": {},
   "outputs": [],
   "source": [
    "import pickle\n",
    "import pandas as pd\n",
    "import numpy as np"
   ]
  },
  {
   "cell_type": "code",
   "execution_count": 132,
   "metadata": {},
   "outputs": [
    {
     "data": {
      "text/html": [
       "<div>\n",
       "<style scoped>\n",
       "    .dataframe tbody tr th:only-of-type {\n",
       "        vertical-align: middle;\n",
       "    }\n",
       "\n",
       "    .dataframe tbody tr th {\n",
       "        vertical-align: top;\n",
       "    }\n",
       "\n",
       "    .dataframe thead th {\n",
       "        text-align: right;\n",
       "    }\n",
       "</style>\n",
       "<table border=\"1\" class=\"dataframe\">\n",
       "  <thead>\n",
       "    <tr style=\"text-align: right;\">\n",
       "      <th></th>\n",
       "      <th>bowler</th>\n",
       "      <th>batsman</th>\n",
       "      <th>wicket</th>\n",
       "      <th>over</th>\n",
       "      <th>outcome</th>\n",
       "    </tr>\n",
       "  </thead>\n",
       "  <tbody>\n",
       "    <tr>\n",
       "      <th>0</th>\n",
       "      <td>Mortaza</td>\n",
       "      <td>Warner</td>\n",
       "      <td>0</td>\n",
       "      <td>1</td>\n",
       "      <td>0</td>\n",
       "    </tr>\n",
       "    <tr>\n",
       "      <th>1</th>\n",
       "      <td>Mortaza</td>\n",
       "      <td>Warner</td>\n",
       "      <td>0</td>\n",
       "      <td>1</td>\n",
       "      <td>0</td>\n",
       "    </tr>\n",
       "    <tr>\n",
       "      <th>2</th>\n",
       "      <td>Mortaza</td>\n",
       "      <td>Warner</td>\n",
       "      <td>0</td>\n",
       "      <td>1</td>\n",
       "      <td>1</td>\n",
       "    </tr>\n",
       "    <tr>\n",
       "      <th>3</th>\n",
       "      <td>Mortaza</td>\n",
       "      <td>Watson</td>\n",
       "      <td>0</td>\n",
       "      <td>1</td>\n",
       "      <td>0</td>\n",
       "    </tr>\n",
       "    <tr>\n",
       "      <th>4</th>\n",
       "      <td>Mortaza</td>\n",
       "      <td>Watson</td>\n",
       "      <td>0</td>\n",
       "      <td>1</td>\n",
       "      <td>1</td>\n",
       "    </tr>\n",
       "  </tbody>\n",
       "</table>\n",
       "</div>"
      ],
      "text/plain": [
       "    bowler batsman  wicket  over  outcome\n",
       "0  Mortaza  Warner       0     1        0\n",
       "1  Mortaza  Warner       0     1        0\n",
       "2  Mortaza  Warner       0     1        1\n",
       "3  Mortaza  Watson       0     1        0\n",
       "4  Mortaza  Watson       0     1        1"
      ]
     },
     "execution_count": 132,
     "metadata": {},
     "output_type": "execute_result"
    }
   ],
   "source": [
    "with open('df1.pkl', 'rb') as f:\n",
    "    data = pickle.load(f)\n",
    "df = pd.DataFrame(data)\n",
    "df.head()"
   ]
  },
  {
   "cell_type": "code",
   "execution_count": 133,
   "metadata": {},
   "outputs": [],
   "source": [
    "X = np.load(\"X_mat.npy\")"
   ]
  },
  {
   "cell_type": "code",
   "execution_count": 134,
   "metadata": {},
   "outputs": [],
   "source": [
    "n_mat = X.sum(axis=3, keepdims=True)"
   ]
  },
  {
   "cell_type": "code",
   "execution_count": 135,
   "metadata": {},
   "outputs": [
    {
     "data": {
      "text/plain": [
       "(434, 20, 10, 1)"
      ]
     },
     "execution_count": 135,
     "metadata": {},
     "output_type": "execute_result"
    }
   ],
   "source": [
    "n_mat.shape"
   ]
  },
  {
   "cell_type": "code",
   "execution_count": 136,
   "metadata": {},
   "outputs": [
    {
     "data": {
      "text/plain": [
       "0.9998889012331964"
      ]
     },
     "execution_count": 136,
     "metadata": {},
     "output_type": "execute_result"
    }
   ],
   "source": [
    "emp_prob = X / (n_mat+0.001)\n",
    "# emp_prob.shape\n",
    "np.max(emp_prob)"
   ]
  },
  {
   "cell_type": "code",
   "execution_count": 137,
   "metadata": {},
   "outputs": [],
   "source": [
    "## Delta theorem multipliers\n",
    "inv_prob = np.array([(1-p)/(p+0.001) for p in emp_prob])\n",
    "inv_prob = inv_prob/(n_mat+0.001)\n",
    "# inv_prob.shape"
   ]
  },
  {
   "cell_type": "markdown",
   "metadata": {},
   "source": [
    "### alpha matrix"
   ]
  },
  {
   "cell_type": "code",
   "execution_count": 138,
   "metadata": {},
   "outputs": [
    {
     "data": {
      "text/plain": [
       "(434, 19, 10, 8)"
      ]
     },
     "execution_count": 138,
     "metadata": {},
     "output_type": "execute_result"
    }
   ],
   "source": [
    "alpha=[]\n",
    "v_inv=[]\n",
    "for i in range(emp_prob.shape[0]):\n",
    "    alpha_i=[]\n",
    "    v_inv_i=[]\n",
    "    for o in range(19):\n",
    "        val = emp_prob[i,o+1]/(emp_prob[i,o]+0.001)\n",
    "        alpha_i.append(val)\n",
    "        v_i = np.square(val)*(inv_prob[i,o+1]+inv_prob[i,o]) \n",
    "        v_inv_i.append([1/(np.sqrt(x)+0.001) for x in v_i])\n",
    "        # v_i_root = np.sqrt(v_i)\n",
    "        # print(v_i_root.shape)\n",
    "        # v_inv_i.append(v_i_root)\n",
    "    alpha.append(alpha_i)\n",
    "    v_inv.append(v_inv_i)\n",
    "    \n",
    "alpha = np.array(alpha)\n",
    "v_inv = np.array(v_inv)\n",
    "v_inv.shape"
   ]
  },
  {
   "cell_type": "code",
   "execution_count": 139,
   "metadata": {},
   "outputs": [],
   "source": [
    "den = np.sum(v_inv, axis=0)\n",
    "num = np.sum(v_inv*alpha, axis=0)\n",
    "o_trans = num/den"
   ]
  },
  {
   "cell_type": "markdown",
   "metadata": {},
   "source": [
    "### beta matrix"
   ]
  },
  {
   "cell_type": "code",
   "execution_count": 140,
   "metadata": {},
   "outputs": [
    {
     "data": {
      "text/plain": [
       "(434, 20, 9, 8)"
      ]
     },
     "execution_count": 140,
     "metadata": {},
     "output_type": "execute_result"
    }
   ],
   "source": [
    "beta=[]\n",
    "w_inv=[]\n",
    "for i in range(emp_prob.shape[0]):\n",
    "    beta_o=[]\n",
    "    y_inv_o=[]\n",
    "    for o in range(20):\n",
    "        beta_i=[]\n",
    "        v_inv_i=[]\n",
    "        for w in range(9):\n",
    "            val = emp_prob[i,o,w+1]/(emp_prob[i,o,w]+0.001)\n",
    "            beta_i.append(val)\n",
    "            v_i = np.square(val)*(inv_prob[i,o,w+1]+inv_prob[i,o,w]) \n",
    "            v_inv_i.append([1/(np.sqrt(x)+0.001) for x in v_i])\n",
    "            # print(val.shape)\n",
    "        beta_o.append(beta_i)\n",
    "        y_inv_o.append(v_inv_i)\n",
    "    beta.append(beta_o)\n",
    "    w_inv.append(y_inv_o)\n",
    "    \n",
    "beta = np.array(beta)\n",
    "w_inv = np.array(w_inv)\n",
    "w_inv.shape "
   ]
  },
  {
   "cell_type": "code",
   "execution_count": 141,
   "metadata": {},
   "outputs": [
    {
     "data": {
      "text/plain": [
       "(20, 9, 8)"
      ]
     },
     "execution_count": 141,
     "metadata": {},
     "output_type": "execute_result"
    }
   ],
   "source": [
    "w_trans = np.sum(w_inv*beta, axis=0)/np.sum(w_inv, axis=0)\n",
    "w_trans.shape"
   ]
  },
  {
   "cell_type": "markdown",
   "metadata": {},
   "source": [
    "### tau calc"
   ]
  },
  {
   "cell_type": "code",
   "execution_count": 142,
   "metadata": {},
   "outputs": [],
   "source": [
    "multiplier_mat = np.ones((2,20,10,8))\n",
    "for o in range(1,20):\n",
    "    multiplier_mat[0,o] = multiplier_mat[0,o-1]*o_trans[o-1]\n",
    "for w in range(1,10):\n",
    "    multiplier_mat[1,:,w] = multiplier_mat[1,:,w-1]*w_trans[:,w-1]\n",
    "\n",
    "tau_mat = multiplier_mat[0]*multiplier_mat[1]\n",
    "tau_mat = tau_mat/tau_mat[6,0] # tau_mat[6,0,:]=1"
   ]
  },
  {
   "cell_type": "markdown",
   "metadata": {},
   "source": [
    "### parameter estimation"
   ]
  },
  {
   "cell_type": "code",
   "execution_count": 143,
   "metadata": {},
   "outputs": [
    {
     "data": {
      "text/plain": [
       "(434, 20, 10, 8)"
      ]
     },
     "execution_count": 143,
     "metadata": {},
     "output_type": "execute_result"
    }
   ],
   "source": [
    "emp_prob.shape"
   ]
  },
  {
   "cell_type": "code",
   "execution_count": 144,
   "metadata": {},
   "outputs": [
    {
     "data": {
      "text/plain": [
       "0.9999922481221075"
      ]
     },
     "execution_count": 144,
     "metadata": {},
     "output_type": "execute_result"
    }
   ],
   "source": [
    "np.sum(emp_prob[0,0,0])"
   ]
  },
  {
   "cell_type": "code",
   "execution_count": null,
   "metadata": {},
   "outputs": [],
   "source": []
  }
 ],
 "metadata": {
  "kernelspec": {
   "display_name": "Python 3",
   "language": "python",
   "name": "python3"
  },
  "language_info": {
   "codemirror_mode": {
    "name": "ipython",
    "version": 3
   },
   "file_extension": ".py",
   "mimetype": "text/x-python",
   "name": "python",
   "nbconvert_exporter": "python",
   "pygments_lexer": "ipython3",
   "version": "3.9.2"
  }
 },
 "nbformat": 4,
 "nbformat_minor": 2
}
