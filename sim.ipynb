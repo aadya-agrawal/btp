{
 "cells": [
  {
   "cell_type": "code",
   "execution_count": 145,
   "metadata": {},
   "outputs": [],
   "source": [
    "## Fixed issue: we should consider only first innings\n",
    "## Pending issue: \n",
    "#  -what is the best way to fix division by 0 problems\n",
    "#  -tau has too many zeros!!\n"
   ]
  },
  {
   "cell_type": "markdown",
   "metadata": {},
   "source": [
    "### prep"
   ]
  },
  {
   "cell_type": "code",
   "execution_count": 1,
   "metadata": {},
   "outputs": [],
   "source": [
    "import pickle\n",
    "import pandas as pd\n",
    "import numpy as np\n",
    "from scipy.stats import dirichlet, multinomial"
   ]
  },
  {
   "cell_type": "code",
   "execution_count": 2,
   "metadata": {},
   "outputs": [
    {
     "data": {
      "text/html": [
       "<div>\n",
       "<style scoped>\n",
       "    .dataframe tbody tr th:only-of-type {\n",
       "        vertical-align: middle;\n",
       "    }\n",
       "\n",
       "    .dataframe tbody tr th {\n",
       "        vertical-align: top;\n",
       "    }\n",
       "\n",
       "    .dataframe thead th {\n",
       "        text-align: right;\n",
       "    }\n",
       "</style>\n",
       "<table border=\"1\" class=\"dataframe\">\n",
       "  <thead>\n",
       "    <tr style=\"text-align: right;\">\n",
       "      <th></th>\n",
       "      <th>bowler</th>\n",
       "      <th>batsman</th>\n",
       "      <th>wicket</th>\n",
       "      <th>over</th>\n",
       "      <th>outcome</th>\n",
       "    </tr>\n",
       "  </thead>\n",
       "  <tbody>\n",
       "    <tr>\n",
       "      <th>0</th>\n",
       "      <td>Mortaza_Bangladesh</td>\n",
       "      <td>Warner_Australia</td>\n",
       "      <td>0</td>\n",
       "      <td>1</td>\n",
       "      <td>0</td>\n",
       "    </tr>\n",
       "    <tr>\n",
       "      <th>1</th>\n",
       "      <td>Mortaza_Bangladesh</td>\n",
       "      <td>Warner_Australia</td>\n",
       "      <td>0</td>\n",
       "      <td>1</td>\n",
       "      <td>0</td>\n",
       "    </tr>\n",
       "    <tr>\n",
       "      <th>2</th>\n",
       "      <td>Mortaza_Bangladesh</td>\n",
       "      <td>Warner_Australia</td>\n",
       "      <td>0</td>\n",
       "      <td>1</td>\n",
       "      <td>1</td>\n",
       "    </tr>\n",
       "    <tr>\n",
       "      <th>3</th>\n",
       "      <td>Mortaza_Bangladesh</td>\n",
       "      <td>Watson_Australia</td>\n",
       "      <td>0</td>\n",
       "      <td>1</td>\n",
       "      <td>0</td>\n",
       "    </tr>\n",
       "    <tr>\n",
       "      <th>4</th>\n",
       "      <td>Mortaza_Bangladesh</td>\n",
       "      <td>Watson_Australia</td>\n",
       "      <td>0</td>\n",
       "      <td>1</td>\n",
       "      <td>1</td>\n",
       "    </tr>\n",
       "    <tr>\n",
       "      <th>5</th>\n",
       "      <td>Mortaza_Bangladesh</td>\n",
       "      <td>Warner_Australia</td>\n",
       "      <td>0</td>\n",
       "      <td>1</td>\n",
       "      <td>0</td>\n",
       "    </tr>\n",
       "    <tr>\n",
       "      <th>6</th>\n",
       "      <td>Shafiul_Bangladesh</td>\n",
       "      <td>Watson_Australia</td>\n",
       "      <td>0</td>\n",
       "      <td>2</td>\n",
       "      <td>0</td>\n",
       "    </tr>\n",
       "    <tr>\n",
       "      <th>7</th>\n",
       "      <td>Shafiul_Bangladesh</td>\n",
       "      <td>Watson_Australia</td>\n",
       "      <td>0</td>\n",
       "      <td>2</td>\n",
       "      <td>1</td>\n",
       "    </tr>\n",
       "    <tr>\n",
       "      <th>8</th>\n",
       "      <td>Shafiul_Bangladesh</td>\n",
       "      <td>Watson_Australia</td>\n",
       "      <td>0</td>\n",
       "      <td>2</td>\n",
       "      <td>0</td>\n",
       "    </tr>\n",
       "    <tr>\n",
       "      <th>9</th>\n",
       "      <td>Shafiul_Bangladesh</td>\n",
       "      <td>Watson_Australia</td>\n",
       "      <td>0</td>\n",
       "      <td>2</td>\n",
       "      <td>2</td>\n",
       "    </tr>\n",
       "  </tbody>\n",
       "</table>\n",
       "</div>"
      ],
      "text/plain": [
       "               bowler           batsman  wicket  over  outcome\n",
       "0  Mortaza_Bangladesh  Warner_Australia       0     1        0\n",
       "1  Mortaza_Bangladesh  Warner_Australia       0     1        0\n",
       "2  Mortaza_Bangladesh  Warner_Australia       0     1        1\n",
       "3  Mortaza_Bangladesh  Watson_Australia       0     1        0\n",
       "4  Mortaza_Bangladesh  Watson_Australia       0     1        1\n",
       "5  Mortaza_Bangladesh  Warner_Australia       0     1        0\n",
       "6  Shafiul_Bangladesh  Watson_Australia       0     2        0\n",
       "7  Shafiul_Bangladesh  Watson_Australia       0     2        1\n",
       "8  Shafiul_Bangladesh  Watson_Australia       0     2        0\n",
       "9  Shafiul_Bangladesh  Watson_Australia       0     2        2"
      ]
     },
     "execution_count": 2,
     "metadata": {},
     "output_type": "execute_result"
    }
   ],
   "source": [
    "with open('df1.pkl', 'rb') as f:\n",
    "    data = pickle.load(f)\n",
    "df = pd.DataFrame(data)\n",
    "df.head(10)"
   ]
  },
  {
   "cell_type": "code",
   "execution_count": 3,
   "metadata": {},
   "outputs": [],
   "source": [
    "X = np.load(\"X_mat.npy\")"
   ]
  },
  {
   "cell_type": "code",
   "execution_count": 4,
   "metadata": {},
   "outputs": [],
   "source": [
    "n_mat = X.sum(axis=3, keepdims=True)"
   ]
  },
  {
   "cell_type": "code",
   "execution_count": 5,
   "metadata": {},
   "outputs": [
    {
     "data": {
      "text/plain": [
       "(374, 20, 10, 1)"
      ]
     },
     "execution_count": 5,
     "metadata": {},
     "output_type": "execute_result"
    }
   ],
   "source": [
    "n_mat.shape"
   ]
  },
  {
   "cell_type": "code",
   "execution_count": 6,
   "metadata": {},
   "outputs": [
    {
     "data": {
      "text/plain": [
       "0.9999999999999999"
      ]
     },
     "execution_count": 6,
     "metadata": {},
     "output_type": "execute_result"
    }
   ],
   "source": [
    "emp_prob = X / (n_mat+1.e-15)\n",
    "# emp_prob.shape\n",
    "np.max(emp_prob)"
   ]
  },
  {
   "cell_type": "code",
   "execution_count": 7,
   "metadata": {},
   "outputs": [],
   "source": [
    "## Delta theorem multipliers\n",
    "inv_prob = np.array([(1-p)/(p+1.e-15) for p in emp_prob])\n",
    "inv_prob = inv_prob/(n_mat+1.e-15)\n",
    "# inv_prob.shape"
   ]
  },
  {
   "cell_type": "markdown",
   "metadata": {},
   "source": [
    "### alpha matrix"
   ]
  },
  {
   "cell_type": "code",
   "execution_count": 8,
   "metadata": {},
   "outputs": [
    {
     "data": {
      "text/plain": [
       "(374, 19, 10, 8)"
      ]
     },
     "execution_count": 8,
     "metadata": {},
     "output_type": "execute_result"
    }
   ],
   "source": [
    "alpha=[]\n",
    "v_inv=[]\n",
    "for i in range(emp_prob.shape[0]):\n",
    "    alpha_i=[]\n",
    "    v_inv_i=[]\n",
    "    for o in range(19):\n",
    "        val = emp_prob[i,o+1]/(emp_prob[i,o]+1.e-15)\n",
    "        alpha_i.append(val)\n",
    "        v_i = np.square(val)*(inv_prob[i,o+1]+inv_prob[i,o]) \n",
    "        v_inv_i.append([1/(np.sqrt(x)+1.e-15) for x in v_i])\n",
    "        # v_i_root = np.sqrt(v_i)\n",
    "        # print(v_i_root.shape)\n",
    "        # v_inv_i.append(v_i_root)\n",
    "    alpha.append(alpha_i)\n",
    "    v_inv.append(v_inv_i)\n",
    "    \n",
    "alpha = np.array(alpha)\n",
    "v_inv = np.array(v_inv)\n",
    "v_inv.shape"
   ]
  },
  {
   "cell_type": "code",
   "execution_count": 9,
   "metadata": {},
   "outputs": [],
   "source": [
    "den = np.sum(v_inv, axis=0)\n",
    "num = np.sum(v_inv*alpha, axis=0)\n",
    "o_trans = num/den"
   ]
  },
  {
   "cell_type": "code",
   "execution_count": 10,
   "metadata": {},
   "outputs": [
    {
     "data": {
      "text/plain": [
       "0.0"
      ]
     },
     "execution_count": 10,
     "metadata": {},
     "output_type": "execute_result"
    }
   ],
   "source": [
    "np.min(o_trans)"
   ]
  },
  {
   "cell_type": "markdown",
   "metadata": {},
   "source": [
    "### beta matrix"
   ]
  },
  {
   "cell_type": "code",
   "execution_count": 11,
   "metadata": {},
   "outputs": [
    {
     "data": {
      "text/plain": [
       "(374, 20, 9, 8)"
      ]
     },
     "execution_count": 11,
     "metadata": {},
     "output_type": "execute_result"
    }
   ],
   "source": [
    "beta=[]\n",
    "w_inv=[]\n",
    "for i in range(emp_prob.shape[0]):\n",
    "    beta_o=[]\n",
    "    y_inv_o=[]\n",
    "    for o in range(20):\n",
    "        beta_i=[]\n",
    "        v_inv_i=[]\n",
    "        for w in range(9):\n",
    "            val = emp_prob[i,o,w+1]/(emp_prob[i,o,w]+1.e-15)\n",
    "            beta_i.append(val)\n",
    "            v_i = np.square(val)*(inv_prob[i,o,w+1]+inv_prob[i,o,w]) \n",
    "            v_inv_i.append([1/(np.sqrt(x)+1.e-15) for x in v_i])\n",
    "            # print(val.shape)\n",
    "        beta_o.append(beta_i)\n",
    "        y_inv_o.append(v_inv_i)\n",
    "    beta.append(beta_o)\n",
    "    w_inv.append(y_inv_o)\n",
    "    \n",
    "beta = np.array(beta)\n",
    "w_inv = np.array(w_inv)\n",
    "w_inv.shape "
   ]
  },
  {
   "cell_type": "code",
   "execution_count": 12,
   "metadata": {},
   "outputs": [
    {
     "data": {
      "text/plain": [
       "(20, 9, 8)"
      ]
     },
     "execution_count": 12,
     "metadata": {},
     "output_type": "execute_result"
    }
   ],
   "source": [
    "w_trans = np.sum(w_inv*beta, axis=0)/np.sum(w_inv, axis=0)\n",
    "w_trans.shape"
   ]
  },
  {
   "cell_type": "code",
   "execution_count": 13,
   "metadata": {},
   "outputs": [
    {
     "data": {
      "text/plain": [
       "0.0"
      ]
     },
     "execution_count": 13,
     "metadata": {},
     "output_type": "execute_result"
    }
   ],
   "source": [
    "np.min(w_trans)"
   ]
  },
  {
   "cell_type": "markdown",
   "metadata": {},
   "source": [
    "### tau calc"
   ]
  },
  {
   "cell_type": "code",
   "execution_count": 14,
   "metadata": {},
   "outputs": [
    {
     "name": "stdout",
     "output_type": "stream",
     "text": [
      "[3.90253334e-089 1.52017033e-060 2.75680260e-100 0.00000000e+000\n",
      " 5.48149911e-097 0.00000000e+000 1.22571315e-102 8.33415803e-102]\n"
     ]
    }
   ],
   "source": [
    "multiplier_mat = np.ones((2,20,10,8))\n",
    "for o in range(1,20):\n",
    "    multiplier_mat[0,o] = multiplier_mat[0,o-1]*o_trans[o-1]\n",
    "for w in range(1,10):\n",
    "    multiplier_mat[1,:,w] = multiplier_mat[1,:,w-1]*w_trans[:,w-1]\n",
    "\n",
    "tau_mat = multiplier_mat[0]*multiplier_mat[1]\n",
    "print(tau_mat[6,0])\n",
    "for j in range(8):\n",
    "    if tau_mat[6,0,j]!=0:\n",
    "        tau_mat[:,:,j] = tau_mat[:,:,j]/(tau_mat[6,0,j]) # tau_mat[6,0,:]=1\n",
    "    else:\n",
    "        tau_mat[:,:,j] = (tau_mat[:,:,j])/(tau_mat[6,0,j]+1.e-15) "
   ]
  },
  {
   "cell_type": "code",
   "execution_count": 15,
   "metadata": {},
   "outputs": [],
   "source": [
    "# tau_mat[18]"
   ]
  },
  {
   "cell_type": "markdown",
   "metadata": {},
   "source": [
    "### parameter estimation"
   ]
  },
  {
   "cell_type": "code",
   "execution_count": 16,
   "metadata": {},
   "outputs": [],
   "source": [
    "# Function to calculate the log posterior\n",
    "def log_posterior(p, X, a, tau, m):\n",
    "    log_p = np.sum([(np.sum(X[:, :, j]) + a[j] - 1) * np.log(p[j]) for j in range(len(p))])\n",
    "    log_p -= np.sum([m[o, w] * np.log(np.sum([tau[o, w, j] * p[j] for j in range(len(p))])+1.e-15) for o in range(X.shape[0]) for w in range(X.shape[1])])\n",
    "    return log_p\n",
    "\n",
    "# Metropolis within Gibbs sampler\n",
    "def metropolis_within_gibbs(X, a, tau, m, num_samples, burn_in):\n",
    "    num_params = len(a)\n",
    "    samples = np.zeros((num_samples, num_params))\n",
    "    current_sample = np.ones(num_params) / num_params  # Initial sample\n",
    "    for i in range(num_samples + burn_in):\n",
    "        for j in range(num_params):\n",
    "            proposal = np.random.dirichlet([np.sum(X[:, :, j]) + a[j] for _ in range(num_params)])\n",
    "            acceptance_ratio = np.exp(log_posterior(proposal, X, a, tau, m) - log_posterior(current_sample, X, a, tau, m))\n",
    "            if np.random.rand() < acceptance_ratio:\n",
    "                current_sample = proposal\n",
    "        if i >= burn_in:\n",
    "            samples[i - burn_in] = current_sample\n",
    "    return samples"
   ]
  },
  {
   "cell_type": "code",
   "execution_count": 17,
   "metadata": {},
   "outputs": [],
   "source": [
    "def met_sampling(i):\n",
    "    c = 60\n",
    "    a = c * np.sum(X/(tau_mat+1.e-15), axis=tuple([0,1,2])) \n",
    "    a /= np.sum(X/(tau_mat+1.e-15))\n",
    "    # tau = np.random.rand(3, 4, 8) \n",
    "    m = np.sum(X[i], axis=-1)\n",
    "    num_samples = 1000\n",
    "    burn_in = 100\n",
    "    samples = metropolis_within_gibbs(X[i], a, tau_mat, m, num_samples,burn_in)\n",
    "    return np.mean(samples, axis=0)"
   ]
  },
  {
   "cell_type": "code",
   "execution_count": 18,
   "metadata": {},
   "outputs": [
    {
     "name": "stdout",
     "output_type": "stream",
     "text": [
      "[1.84685911e-01 6.58002921e-01 1.25852725e-03 4.93422938e-02\n",
      " 6.26653749e-02 4.35702739e-02 4.10151945e-04 6.45453172e-05]\n",
      "[0.18972788 0.37512131 0.10917511 0.06232529 0.07489923 0.03976329\n",
      " 0.07777007 0.07121781]\n"
     ]
    }
   ],
   "source": [
    "## Probability matrix calc\n",
    "prob = []\n",
    "for i in [1,89]: # range(X.shape[0])\n",
    "    param_est = met_sampling(i)\n",
    "    print(param_est)\n",
    "    vals = tau_mat*param_est\n",
    "    prob.append(vals/(vals.sum(axis=-1, keepdims=True)+1.e-15))"
   ]
  },
  {
   "cell_type": "code",
   "execution_count": 21,
   "metadata": {},
   "outputs": [
    {
     "name": "stdout",
     "output_type": "stream",
     "text": [
      "[[2.03603208e-01 7.25401872e-01 1.38743765e-03 0.00000000e+00\n",
      "  6.90841618e-02 0.00000000e+00 4.52163629e-04 7.11566657e-05]\n",
      " [2.11299111e-01 4.17770958e-01 1.21587842e-01 0.00000000e+00\n",
      "  8.34149433e-02 0.00000000e+00 8.66121831e-02 7.93149615e-02]]\n"
     ]
    }
   ],
   "source": [
    "prob = np.array(prob)\n",
    "\n",
    "print(prob[:, 6, 0])"
   ]
  },
  {
   "cell_type": "code",
   "execution_count": null,
   "metadata": {},
   "outputs": [],
   "source": [
    "np.save(\"prob_mat.npy\", prob)"
   ]
  },
  {
   "cell_type": "code",
   "execution_count": null,
   "metadata": {},
   "outputs": [],
   "source": [
    "# Modifications: - weigh recent matches more (use decay ratio)"
   ]
  }
 ],
 "metadata": {
  "kernelspec": {
   "display_name": "Python 3",
   "language": "python",
   "name": "python3"
  },
  "language_info": {
   "codemirror_mode": {
    "name": "ipython",
    "version": 3
   },
   "file_extension": ".py",
   "mimetype": "text/x-python",
   "name": "python",
   "nbconvert_exporter": "python",
   "pygments_lexer": "ipython3",
   "version": "3.9.2"
  }
 },
 "nbformat": 4,
 "nbformat_minor": 2
}
