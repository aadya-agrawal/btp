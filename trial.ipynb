{
 "cells": [
  {
   "cell_type": "code",
   "execution_count": 29,
   "metadata": {},
   "outputs": [],
   "source": [
    "import pickle\n",
    "import pandas as pd\n",
    "import os\n",
    "import re"
   ]
  },
  {
   "cell_type": "code",
   "execution_count": 30,
   "metadata": {},
   "outputs": [],
   "source": [
    "# Format:\n",
    "# Bowler, batsman \n",
    "# Runs in numbers/words, out else 0. If wide/no ball then ignore entry\n",
    "# out\n",
    "def to_corrrect_format(filepath): \n",
    "    df = pd.read_csv(filepath, sep='delimiter',header=None, engine=\"python\") #, names=[\"Players\", \"Outcome\"]\n",
    "    numbers_dict = {\"zero\": 0, \"one\": 1, \"two\": 2, \"three\": 3, \"four\": 4, \"five\": 5, \"six\": 6}\n",
    "    data = []\n",
    "    wkt_taken = 0\n",
    "    num_over = 0\n",
    "    prev_bowler = ''\n",
    "    for index, row in df.iterrows():\n",
    "        line = row.to_string(index=False)\n",
    "        list = line.split(\",\")\n",
    "\n",
    "        bowler, batsman = list[0].split(\" to \")    \n",
    "        if prev_bowler!=bowler: # what about case senstivity?\n",
    "            prev_bowler=bowler\n",
    "            num_over+=1\n",
    "\n",
    "        find_runs = r'(zero|one|two|three|four|five|six|0|1|2|3|4|5|6)'\n",
    "        find_extra = r'(wide|no ball)'\n",
    "        outcome = re.findall(find_runs, list[1], flags=re.IGNORECASE)\n",
    "        if re.findall(\"out\", list[-1], flags=re.IGNORECASE):\n",
    "            wkt_taken += 1\n",
    "            data.append([bowler, batsman, wkt_taken, num_over, 7])\n",
    "        elif re.findall(find_extra, list[1], flags=re.IGNORECASE):\n",
    "            continue\n",
    "        elif outcome:\n",
    "            # print(outcome)\n",
    "            runs = 0\n",
    "            if outcome[0].isdigit():\n",
    "                runs = int(outcome[0])\n",
    "            else:\n",
    "                num = numbers_dict.get(outcome[0].lower(), None)\n",
    "                if num is not None:\n",
    "                    runs = num\n",
    "            data.append([bowler, batsman, wkt_taken, num_over, runs])\n",
    "        else:\n",
    "            data.append([bowler, batsman, wkt_taken, num_over, 0])\n",
    "            # print(\"yay!\")\n",
    "        # print(list)\n",
    "    # print(data)\n",
    "    new_path = filepath.split(\".\")\n",
    "    with open(new_path[0]+'.pkl', 'wb') as file:\n",
    "        pickle.dump(data, file)"
   ]
  },
  {
   "cell_type": "code",
   "execution_count": 25,
   "metadata": {},
   "outputs": [],
   "source": [
    "# current issues:\n",
    "#   - Same player last names\n",
    "#   - Dismissal on extras leads to >6 balls in an over\n",
    "#   - counting byes as runs"
   ]
  },
  {
   "cell_type": "code",
   "execution_count": 31,
   "metadata": {},
   "outputs": [],
   "source": [
    "# df = pd.read_csv(\"T20_matches/australia-vs-bangladesh-11th-match-group-a-412688/textsInnings1.csv\", sep='delimiter',header=None) #, names=[\"Players\", \"Outcome\"]\n",
    "# df.head()\n",
    "\n",
    "to_corrrect_format(\"T20_matches/australia-vs-bangladesh-11th-match-group-a-412688/textsInnings1.csv\")"
   ]
  },
  {
   "cell_type": "code",
   "execution_count": 32,
   "metadata": {},
   "outputs": [],
   "source": [
    "rootdir = 'T20_matches'\n",
    "\n",
    "for subdir, dirs, files in os.walk(rootdir):\n",
    "    try: \n",
    "        for file in files:\n",
    "            to_corrrect_format(os.path.join(subdir, file))\n",
    "    except: \n",
    "        pass"
   ]
  },
  {
   "cell_type": "code",
   "execution_count": null,
   "metadata": {},
   "outputs": [],
   "source": []
  }
 ],
 "metadata": {
  "kernelspec": {
   "display_name": "Python 3",
   "language": "python",
   "name": "python3"
  },
  "language_info": {
   "codemirror_mode": {
    "name": "ipython",
    "version": 3
   },
   "file_extension": ".py",
   "mimetype": "text/x-python",
   "name": "python",
   "nbconvert_exporter": "python",
   "pygments_lexer": "ipython3",
   "version": "3.9.2"
  }
 },
 "nbformat": 4,
 "nbformat_minor": 2
}
